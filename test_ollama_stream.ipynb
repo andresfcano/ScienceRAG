{
 "cells": [
  {
   "cell_type": "code",
   "execution_count": 3,
   "metadata": {},
   "outputs": [
    {
     "name": "stdout",
     "output_type": "stream",
     "text": [
      "Colombia has a rich and diverse history that spans over 2,000 years. Here's a brief overview:\n",
      "\n",
      "**Pre-Columbian Era (2000 BCE - 1537 CE)**: The region was inhabited by indigenous tribes such as the Muisca, Tairona, and Wayúu. These civilizations developed complex societies, with the Muisca being one of the most advanced in South America.\n",
      "\n",
      "**Spanish Colonization (1537 - 1810)**: In 1537, Spanish conquistador Gonzalo Jiménez de Quesada arrived in present-day Colombia, marking the beginning of European colonization. The Spanish established cities like Bogotá and Cartagena, and exploited the region's natural resources.\n",
      "\n",
      "**Independence (1810 - 1821)**: Colombia declared independence from Spain on July 20, 1810, led by Simón Bolívar, a Venezuelan-born leader who would later become known as \"El Libertador.\" The War of Independence lasted until 1821, when Gran Colombia was formed.\n",
      "\n",
      "**Gran Colombia (1821 - 1831)**: Gran Colombia was a short-lived republic that included present-day Colombia, Venezuela, Ecuador, and Panama. Bolívar served as its president until his death in 1830.\n",
      "\n",
      "**Republic of New Granada (1831 - 1858)**: After Bolívar's death, the region was divided into three separate countries: Colombia, Venezuela, and Ecuador. The Republic of New Granada was formed, with Bogotá as its capital.\n",
      "\n",
      "**United States of Colombia (1858 - 1886)**: In 1858, the Republic of New Granada became the United States of Colombia, a federal republic that included present-day Colombia, Panama, and parts of Venezuela and Ecuador.\n",
      "\n",
      "**Panama Separation (1903)**: Panama declared independence from Colombia in 1903, after the construction of the Panama Canal was completed. This led to Colombia's loss of territory and a significant economic blow.\n",
      "\n",
      "**La Violencia (1946 - 1958)**: A period of political instability and violence, known as La Violencia, occurred between 1946 and 1958, resulting in the deaths of tens of thousands of people and the displacement of many more.\n",
      "\n",
      "**Modern Colombia (1960s - present)**: Since the 1960s, Colombia has undergone significant social, economic, and political changes. The country has faced challenges such as drug trafficking, guerrilla warfare, and urban violence, but has also made progress in areas like education, healthcare, and infrastructure development.\n",
      "\n",
      "This is a condensed history of Colombia, and there are many more details and events that have shaped the country's past."
     ]
    }
   ],
   "source": [
    "import ollama\n",
    "\n",
    "stream = ollama.chat(\n",
    "    model='llama3',\n",
    "    messages=[{'role': 'user', 'content': 'Tell me a brief history of Colombia'}],\n",
    "    stream=True,\n",
    ")\n",
    "\n",
    "for chunk in stream:\n",
    "  print(chunk['message']['content'], end='', flush=True)"
   ]
  },
  {
   "cell_type": "code",
   "execution_count": null,
   "metadata": {},
   "outputs": [],
   "source": []
  }
 ],
 "metadata": {
  "kernelspec": {
   "display_name": "py_39_science_rag",
   "language": "python",
   "name": "python3"
  },
  "language_info": {
   "codemirror_mode": {
    "name": "ipython",
    "version": 3
   },
   "file_extension": ".py",
   "mimetype": "text/x-python",
   "name": "python",
   "nbconvert_exporter": "python",
   "pygments_lexer": "ipython3",
   "version": "3.9.13"
  }
 },
 "nbformat": 4,
 "nbformat_minor": 2
}
