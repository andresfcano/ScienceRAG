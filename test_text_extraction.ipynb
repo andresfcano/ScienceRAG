{
 "cells": [
  {
   "cell_type": "markdown",
   "metadata": {},
   "source": [
    "# Test Text Extraction"
   ]
  },
  {
   "cell_type": "code",
   "execution_count": 1,
   "metadata": {},
   "outputs": [],
   "source": [
    "from pypdf import PdfReader"
   ]
  },
  {
   "cell_type": "code",
   "execution_count": 2,
   "metadata": {},
   "outputs": [],
   "source": [
    "reader = PdfReader(r\"C:\\Users\\Andres\\Desktop\\ScienceRAG\\papers\\Bartholet_et_al.pdf\")"
   ]
  },
  {
   "cell_type": "code",
   "execution_count": 3,
   "metadata": {},
   "outputs": [
    {
     "name": "stdout",
     "output_type": "stream",
     "text": [
      "11\n"
     ]
    }
   ],
   "source": [
    "print(len(reader.pages))"
   ]
  },
  {
   "cell_type": "code",
   "execution_count": 4,
   "metadata": {},
   "outputs": [],
   "source": [
    "page = reader.pages[1]"
   ]
  },
  {
   "cell_type": "code",
   "execution_count": 5,
   "metadata": {},
   "outputs": [
    {
     "name": "stdout",
     "output_type": "stream",
     "text": [
      "Fuel 295 (2021) 120509\n",
      "2properties of the oxygenated species are important when considering \n",
      "blending effects and engine performance. For example, ethanol is \n",
      "commonly added to gasoline, but its use as a diesel fuel additive is \n",
      "limited by low cetane number; low flashpoint temperature, which cre-\n",
      "ates headspace flammability concerns in fuel tanks; and poor miscibility, \n",
      "which results in the need for engine and distribution infrastructure \n",
      "modifications [11,12,18] . \n",
      "It is also important to consider the environmental fate of a potential \n",
      "fuel additive molecule. Methyl tert-butyl ether (MTBE) was used widely \n",
      "as an oxygenated additive in gasoline to reduce emissions. However, due \n",
      "to its water solubility and environmental persistence, MTBE became a \n",
      "problematic groundwater and soil contaminant [19] and is no longer \n",
      "used as a fuel additive in the United States [20]. \n",
      "A molecule that has recently gained attention as a potential diesel \n",
      "additive is dimethoxymethane (DMM), also known as methylal (Fig. 1). \n",
      "DMM has been shown to significantly reduce soot [21]; however, it has a \n",
      "much lower LHV than petroleum fuels, is highly soluble in water, and \n",
      "fails to meet the diesel criteria for flash point (Tflash). Recently, poly-\n",
      "oxymethylene dimethyl ethers (POMDMEs), molecules similar to DMM \n",
      "but with longer oxymethylene backbones, have been investigated \n",
      "[21–25] (Fig. 2). The increased oxygen content of POMDMEs suggests \n",
      "they would provide effective suppression of soot formation, and \n",
      "POMDMEs of backbone length n =2–3 (Fig. 2) may be more miscible in \n",
      "diesel fuel [22] and have higher cetane numbers than DMM. However, \n",
      "due to the high oxygen content and short alkyl end groups of POMDMEs, \n",
      "they have low LHV and are likely to be highly water soluble and non- \n",
      "biodegradable, making them potential environmental contaminants. \n",
      "Lautenschütz et al. also investigated the fuel properties of POMDME \n",
      "analogs that have ethyl end groups [26]. While these ethyl-terminated \n",
      "polyoxymethylene ethers (POMEs) demonstrated some favorable prop-\n",
      "erties, such as high cetane numbers, they still fell short of optimal LHVs \n",
      "for diesel fuel [26]. Furthermore, that study did not consider whether \n",
      "the investigated POMEs could be potential environmental contaminants. \n",
      "Industrially, DMM, (MM-POME 1; see Section 2.1 for nomenclature) \n",
      "is synthesized by acetalization of formaldehyde [21]. Chain propagation \n",
      "can then be achieved through reacting paraformaldehyde and MM- \n",
      "POME 1 over an acid catalyst to produce POMDMEs (MM-POME 2 \n",
      "through MM-POME 8). These methyl-terminated POMEs have also been \n",
      "synthesized directly from dimethyl ether over a Ti(SO 4)2/activated \n",
      "carbon catalyst with high selectivity [27]. Current research is focused on \n",
      "improving the synthesis of POMEs [28], so it is vital to identify which \n",
      "molecules have the potential to be industrially valuable. All of these \n",
      "routes can use biomass as the starting feedstock so that the produced \n",
      "POMEs can be renewable, low-carbon biofuels. \n",
      "In this study, we used a rational design approach to identify POMEs \n",
      "with the potential to reap the benefits of POMDMEs, including effective \n",
      "soot reduction and high cetane number, while circumventing the limi-\n",
      "tations of engine and infrastructure incompatibility and environmental \n",
      "concerns. Sixty-seven candidate POMEs (Fig. 3) were evaluated, \n",
      "including linear structures of backbone length n =1–7 and alkyl end \n",
      "groups of length C1-C5 as well as structures with isopropyl and isobutyl \n",
      "end groups, and structures with a tertiary alkyl branch of length C1-C4. \n",
      "Only a few variants of POMEs have been investigated previously, and \n",
      "most of their fuel properties remain unknown. Thus, several predictive \n",
      "tools were used to estimate the LHV, melting point (Tmelt), Tflash, \n",
      "biodegradability, water solubility, ignition delay, derived cetane num-\n",
      "ber (DCN), and hydrocarbon solubility of each molecule. There is no \n",
      "ASTM standard test for characterizing the sooting tendency of diesel \n",
      "fuels, so most fuel design studies are unable to consider soot (e.g., [29]). \n",
      "In this study we include soot by using a relatively new parameter, yield sooting index (YSI), which is defined as the amount of soot formed by a \n",
      "fuel when it is doped at low concentration into a base methane/air flame \n",
      "[49]. We have shown elsewhere that YSI correlates well with the ASTM \n",
      "D1322 smoke point test used for characterizing sooting tendencies of jet \n",
      "fuels but has the benefit of requiring less sample volume (100 μL vs 10 \n",
      "mL) and offering a wider dynamic range that encompasses low soot \n",
      "molecules such as POMEs [30,31] . POMEs were evaluated against fuel \n",
      "criteria both as pure compounds and as blendstocks in diesel fuel at \n",
      "10–50% blending. \n",
      "2.Materials and methods \n",
      "2.1. POME nomenclature \n",
      "A general nomenclature for POMEs is defined here as mA3- A1A2- \n",
      "POMEn , where A1 and A2 represent the terminating alkyl groups and A3 \n",
      "represents an optional tertiary branch. Alkyl groups are designated by \n",
      "M, E, P, B, and Pe for methyl, ethyl, propyl, butyl, and pentyl groups \n",
      "respectively. The branch point (if present) is indicated by m, and n is the \n",
      "POME backbone length (Fig. 3A). Linear POMEs (Fig. 3B) are named by \n",
      "ordering the terminating groups from shortest to longest. POMEs with \n",
      "iso-alkyl groups were also considered and are denoted as iP or iB for \n",
      "isopropyl and isobutyl groups respectively (Fig. 3C). The first term of the \n",
      "general nomenclature accounts for tertiary branching (Fig. 3D). When \n",
      "naming branched POMEs, the branch point, m, is numbered from the \n",
      "closer end and the terminating groups named beginning with that end. \n",
      "2.2. Pomes used in property measurements \n",
      "MM-POME 1 (DMM; 99.0% from Sigma-Aldrich and 99.5% from \n",
      "Acros), EE-POME 1 (ethylal; 99.0% from Acros and 99.0% from Merck), \n",
      "and BB-POME 1 (butylal; 98.5% from Sigma-Aldrich) were used as \n",
      "received. A mixture of POME 3-6 was procured from ASG Analytik- \n",
      "Service GmbH (Germany). The mixture was fractionated and purified \n",
      "via distillation (spinning band) to obtain MM-POME 3, MM-POME 4, MM- \n",
      "POME 5, and MM-POME 6. \n",
      "Fig. 1.Chemical structure of dimethoxymethane (DMM).  \n",
      "Fig. 2.General chemical structure of polyoxymethylene dimethyl \n",
      "ethers (POMDMEs). \n",
      "Fig. 3.Polyoxymethylene ether (POME) structures. (A) General structure of \n",
      "POMEs. A1, A2, and A3 are alkyl terminating groups, and n is the POME \n",
      "backbone length. The possible single branch point is indicated at m, and the \n",
      "dotted line indicates that some POME molecules are not branched. (B) Example \n",
      "of linear POME with linear end groups: EP-POME 2. (C) Example of linear POME \n",
      "with branched end groups: iPiP-POME 2. (D) Example of branched POME with \n",
      "linear end groups: 1P-PM-POME 2. Only structures with a single A3 group were \n",
      "considered in this study. D.L. Bartholet et al.                                                                                                                                                                                                                            \n"
     ]
    }
   ],
   "source": [
    "text = page.extract_text()\n",
    "print(text)"
   ]
  },
  {
   "cell_type": "markdown",
   "metadata": {},
   "source": [
    "# Test Ollama Embeddings"
   ]
  },
  {
   "cell_type": "markdown",
   "metadata": {},
   "source": [
    "## Generate Embeddings"
   ]
  },
  {
   "cell_type": "code",
   "execution_count": 18,
   "metadata": {},
   "outputs": [],
   "source": [
    "import ollama\n",
    "import chromadb\n",
    "\n",
    "client = chromadb.Client()\n",
    "try:\n",
    "  collection = client.create_collection(name=\"docs\")\n",
    "except:\n",
    "  collection = client.get_collection(name=\"docs\")\n",
    "\n",
    "# store each document in a vector embedding database\n",
    "for i, page in enumerate(reader.pages):\n",
    "  response = ollama.embeddings(model=\"mxbai-embed-large\", prompt=page.extract_text())\n",
    "  embedding = response[\"embedding\"]\n",
    "  collection.add(\n",
    "    ids=[str(i)],\n",
    "    embeddings=[embedding],\n",
    "    documents=[page.extract_text()]\n",
    "  )"
   ]
  },
  {
   "cell_type": "markdown",
   "metadata": {},
   "source": [
    "## Retrieve"
   ]
  },
  {
   "cell_type": "code",
   "execution_count": 21,
   "metadata": {},
   "outputs": [],
   "source": [
    "# an example prompt\n",
    "prompt = \"What are some drawbacks of the combustion of diesel fuels?\"\n",
    "\n",
    "# generate an embedding for the prompt and retrieve the most relevant doc\n",
    "response = ollama.embeddings(\n",
    "  prompt=prompt,\n",
    "  model=\"mxbai-embed-large\"\n",
    ")\n",
    "results = collection.query(\n",
    "  query_embeddings=[response[\"embedding\"]],\n",
    "  n_results=5\n",
    ")\n",
    "data = results['documents'][0][0]"
   ]
  },
  {
   "cell_type": "code",
   "execution_count": 25,
   "metadata": {},
   "outputs": [
    {
     "name": "stdout",
     "output_type": "stream",
     "text": [
      "Based on the data provided, there are several drawbacks associated with the combustion of diesel fuels:\n",
      "\n",
      "1. **Flash point concerns**: Shorter POMEs have extremely low flash points, which can present a safety hazard.\n",
      "2. **Poor water solubility**: Increased molecular weight (backbone length or end-group size) leads to decreased water solubility, making it more difficult to mix with water-based additives or clean up spills.\n",
      "3. **Solidification at room temperature**: Longer POMEs become solids at room temperature, which can affect their handling and storage.\n",
      "\n",
      "These drawbacks highlight the importance of considering the properties of POMEs when designing fuel blends for combustion applications.\n"
     ]
    }
   ],
   "source": [
    "# generate a response combining the prompt and data we retrieved in step 2\n",
    "output = ollama.generate(\n",
    "  model=\"llama3\",\n",
    "  prompt=f\"Using this data: {data}. Respond to this prompt: {prompt}\"\n",
    ")\n",
    "\n",
    "print(output['response'])"
   ]
  },
  {
   "cell_type": "code",
   "execution_count": null,
   "metadata": {},
   "outputs": [],
   "source": []
  },
  {
   "cell_type": "code",
   "execution_count": null,
   "metadata": {},
   "outputs": [],
   "source": []
  }
 ],
 "metadata": {
  "kernelspec": {
   "display_name": "py_39_science_rag",
   "language": "python",
   "name": "python3"
  },
  "language_info": {
   "codemirror_mode": {
    "name": "ipython",
    "version": 3
   },
   "file_extension": ".py",
   "mimetype": "text/x-python",
   "name": "python",
   "nbconvert_exporter": "python",
   "pygments_lexer": "ipython3",
   "version": "3.9.13"
  }
 },
 "nbformat": 4,
 "nbformat_minor": 2
}
